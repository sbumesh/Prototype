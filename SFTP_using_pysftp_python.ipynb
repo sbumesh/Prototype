{
  "nbformat": 4,
  "nbformat_minor": 0,
  "metadata": {
    "colab": {
      "name": "SFTP using pysftp python.ipynb",
      "provenance": [],
      "collapsed_sections": [],
      "authorship_tag": "ABX9TyOo+GQ6+5BQKqemECqa4/yr",
      "include_colab_link": true
    },
    "kernelspec": {
      "name": "python3",
      "display_name": "Python 3"
    },
    "language_info": {
      "name": "python"
    }
  },
  "cells": [
    {
      "cell_type": "markdown",
      "metadata": {
        "id": "view-in-github",
        "colab_type": "text"
      },
      "source": [
        "<a href=\"https://colab.research.google.com/github/sbumesh/Prototype/blob/main/SFTP_using_pysftp_python.ipynb\" target=\"_parent\"><img src=\"https://colab.research.google.com/assets/colab-badge.svg\" alt=\"Open In Colab\"/></a>"
      ]
    },
    {
      "cell_type": "code",
      "source": [
        "!pip3 install pysftp\n",
        "zipFolder= '/content/sample_data/output'\n",
        "!mkdir {zipFolder}"
      ],
      "metadata": {
        "colab": {
          "base_uri": "https://localhost:8080/"
        },
        "id": "SztrsgfYn8KO",
        "outputId": "808e1378-6bb2-47eb-ea21-5b866507071b"
      },
      "execution_count": null,
      "outputs": [
        {
          "output_type": "stream",
          "name": "stdout",
          "text": [
            "Looking in indexes: https://pypi.org/simple, https://us-python.pkg.dev/colab-wheels/public/simple/\n",
            "Collecting pysftp\n",
            "  Downloading pysftp-0.2.9.tar.gz (25 kB)\n",
            "Collecting paramiko>=1.17\n",
            "  Downloading paramiko-2.11.0-py2.py3-none-any.whl (212 kB)\n",
            "\u001b[K     |████████████████████████████████| 212 kB 29.9 MB/s \n",
            "\u001b[?25hCollecting cryptography>=2.5\n",
            "  Downloading cryptography-37.0.4-cp36-abi3-manylinux_2_24_x86_64.whl (4.1 MB)\n",
            "\u001b[K     |████████████████████████████████| 4.1 MB 37.1 MB/s \n",
            "\u001b[?25hCollecting bcrypt>=3.1.3\n",
            "  Downloading bcrypt-3.2.2-cp36-abi3-manylinux_2_17_x86_64.manylinux2014_x86_64.manylinux_2_24_x86_64.whl (62 kB)\n",
            "\u001b[K     |████████████████████████████████| 62 kB 319 kB/s \n",
            "\u001b[?25hRequirement already satisfied: six in /usr/local/lib/python3.7/dist-packages (from paramiko>=1.17->pysftp) (1.15.0)\n",
            "Collecting pynacl>=1.0.1\n",
            "  Downloading PyNaCl-1.5.0-cp36-abi3-manylinux_2_17_x86_64.manylinux2014_x86_64.manylinux_2_24_x86_64.whl (856 kB)\n",
            "\u001b[K     |████████████████████████████████| 856 kB 44.6 MB/s \n",
            "\u001b[?25hRequirement already satisfied: cffi>=1.1 in /usr/local/lib/python3.7/dist-packages (from bcrypt>=3.1.3->paramiko>=1.17->pysftp) (1.15.1)\n",
            "Requirement already satisfied: pycparser in /usr/local/lib/python3.7/dist-packages (from cffi>=1.1->bcrypt>=3.1.3->paramiko>=1.17->pysftp) (2.21)\n",
            "Building wheels for collected packages: pysftp\n",
            "  Building wheel for pysftp (setup.py) ... \u001b[?25l\u001b[?25hdone\n",
            "  Created wheel for pysftp: filename=pysftp-0.2.9-py3-none-any.whl size=15498 sha256=7e8f3b1282c216998176c3c45995b90a8e435f1d06bb35c7a02731cecb35f8d9\n",
            "  Stored in directory: /root/.cache/pip/wheels/02/ee/6d/30c335b17af87fd32d14ff0d0b9dea36f0478da5ece9199597\n",
            "Successfully built pysftp\n",
            "Installing collected packages: pynacl, cryptography, bcrypt, paramiko, pysftp\n",
            "Successfully installed bcrypt-3.2.2 cryptography-37.0.4 paramiko-2.11.0 pynacl-1.5.0 pysftp-0.2.9\n"
          ]
        }
      ]
    },
    {
      "cell_type": "code",
      "source": [
        ""
      ],
      "metadata": {
        "id": "CKTX9Os9J_b0"
      },
      "execution_count": null,
      "outputs": []
    },
    {
      "cell_type": "code",
      "source": [
        "import pysftp as sftp\n",
        "import datetime as dt\n",
        "import pprint\n",
        "# zipFolder= '/tmp'\n",
        "def removeCSVfile() :\n",
        "    import glob, os\n",
        "    for afile in glob.glob(f\"{zipFolder}/ETL_*_20??_??_??_*.CSV\"):\n",
        "          print(f'Deleting files : {afile}')\n",
        "          os.remove(afile)\n",
        "    return\n",
        "def unzipFile(destination_path) :\n",
        "    import os\n",
        "    import zipfile\n",
        "    import glob\n",
        "    os.chdir(zipFolder)\n",
        "    os.listdir(zipFolder)\n",
        "    print('unzipping File :' ,destination_path )\n",
        "    with zipfile.ZipFile(destination_path, 'r') as zip_ref:\n",
        "            t=zip_ref.extractall('.')\n",
        "    print('/tmp xip files' ,glob.glob('/tmp/*.zip') )  \n",
        "    print('/tmp unzipped file' ,glob.glob('/tmp/*.CSV') )    \n",
        "\n",
        "def downloadZipFile( host = 'sftp.netexam.com',\n",
        "                     username = 'sabre_travel_sftp_user' ,\n",
        "                     password= 'Aoi8347$983dB')  :\n",
        "      \n",
        "      cnopts = sftp.CnOpts()\n",
        "      cnopts.hostkeys = None\n",
        "      # Filename with Date\n",
        "      filename = 'ETLFiles_'\n",
        "      today = dt.datetime.today().strftime(\"%Y%m%d\")\n",
        "      filename_wo = filename + today           # 'ETLFiles_20220325'\n",
        "      folder_name = 'ETLFiles'\n",
        "      filename = filename + today + '.zip'     # 'ETLFiles_20220325.zip'\n",
        "      filename_path = '/ETLData/' + filename   # '/ETLData/ETLFiles_20220325.zip'\n",
        "      destination_path = f'{zipFolder}/' + filename\n",
        "\n",
        "      # SFTP Server Connection\n",
        "      try:\n",
        "        conn = sftp.Connection(host=host,username=username, password=password, cnopts = cnopts)\n",
        "        print(\"connection established successfully\")\n",
        "      except:\n",
        "        print('failed to establish connection to targeted server')  \n",
        "\n",
        "      # Download today's file\n",
        "      conn.get(filename_path,destination_path)\n",
        "      print(\"file: \",filename)\n",
        "      return destination_path\n",
        "removeCSVfile() \n",
        "destination_path= (downloadZipFile() )  \n",
        "unzipFile(destination_path)   "
      ],
      "metadata": {
        "colab": {
          "base_uri": "https://localhost:8080/"
        },
        "id": "q0g-4A0kymYm",
        "outputId": "82f08098-97ab-41f5-db5a-30e180c3c80b"
      },
      "execution_count": null,
      "outputs": [
        {
          "output_type": "stream",
          "name": "stderr",
          "text": [
            "/usr/local/lib/python3.7/dist-packages/pysftp/__init__.py:61: UserWarning: Failed to load HostKeys from /root/.ssh/known_hosts.  You will need to explicitly load HostKeys (cnopts.hostkeys.load(filename)) or disableHostKey checking (cnopts.hostkeys = None).\n",
            "  warnings.warn(wmsg, UserWarning)\n"
          ]
        },
        {
          "output_type": "stream",
          "name": "stdout",
          "text": [
            "connection established successfully\n",
            "file:  ETLFiles_20220727.zip\n",
            "unzipping File : /content/sample_data/output/ETLFiles_20220727.zip\n",
            "/tmp xip files []\n",
            "/tmp unzipped file ['/tmp/ETL_Full_CoursePrice_2022_07_27_05_00_02.CSV', '/tmp/ETL_Full_ClassPrice_2022_07_27_05_00_03.CSV', '/tmp/ETL_Delta_Lesson_2022_07_27_05_00_02.CSV', '/tmp/ETL_Full_User_Certification_Archive_2022_07_27_05_00_02.CSV', '/tmp/ETL_Full_CourseUserTypes_2022_07_27_05_00_02.CSV', '/tmp/ETL_Delta_User_Lesson_2022_07_27_05_00_02.CSV', '/tmp/ETL_Delta_User_Certification_2022_07_27_05_00_01.CSV', '/tmp/ETL_Delta_User_2022_07_27_05_00_03.CSV', '/tmp/ETL_Full_survey_2022_07_27_05_00_03.CSV', '/tmp/ETL_Delta_User_Course_2022_07_27_05_00_01.CSV', '/tmp/ETL_Delta_Class_2022_07_27_05_00_01.CSV', '/tmp/ETL_Delta_User_Class_Cancellation_2022_07_27_05_00_03.CSV', '/tmp/ETL_Delta_Course_2022_07_27_05_00_01.CSV', '/tmp/ETL_Delta_User_Class_2022_07_27_05_00_02.CSV', '/tmp/ETL_Delta_Certification_2022_07_27_05_00_00.CSV', '/tmp/ETL_Full_SurveyResponse_2022_07_27_05_00_03.CSV']\n"
          ]
        }
      ]
    },
    {
      "cell_type": "code",
      "source": [
        "!ls -l /tmp\n",
        "# removeCSVfile()\n",
        "import glob\n",
        "glob.glob('/tmp/*.CSV')   "
      ],
      "metadata": {
        "colab": {
          "base_uri": "https://localhost:8080/"
        },
        "id": "9zgNhE0g2434",
        "outputId": "ccf632a3-47a4-413c-a2f2-83bc8b59d27a"
      },
      "execution_count": null,
      "outputs": [
        {
          "output_type": "stream",
          "name": "stdout",
          "text": [
            "total 1428\n",
            "-rw-r--r-- 1 root root    1166 Jul 26 19:19 dap_multiplexer.bfe285ac6570.root.log.INFO.20220726-191932.43\n",
            "lrwxrwxrwx 1 root root      61 Jul 26 19:19 dap_multiplexer.INFO -> dap_multiplexer.bfe285ac6570.root.log.INFO.20220726-191932.43\n",
            "srwxr-xr-x 1 root root       0 Jul 26 19:19 debugger_11t3qnfhkf\n",
            "-rw-r--r-- 1 root root 1426817 Jul 26 19:21 ETLFiles_20220726.zip\n",
            "drwx------ 2 root root    4096 Jul 26 19:19 initgoogle_syslog_dir.0\n",
            "drwx------ 2 root root    4096 Jul 26 19:21 pyright-140-s4LpoBnqYiTv\n",
            "drwx------ 2 root root    4096 Jul 26 19:21 pyright-140-tCDqtQOYeSo4\n",
            "drwx------ 2 root root    4096 Jul 26 19:21 pyright-96-BhGMZL8Alcah\n",
            "drwx------ 2 root root    4096 Jul 26 19:21 pyright-96-BP4L4MnSjSEt\n",
            "drwxr-xr-x 3 root root    4096 Jul 26 19:21 python-languageserver-cancellation\n"
          ]
        },
        {
          "output_type": "execute_result",
          "data": {
            "text/plain": [
              "[]"
            ]
          },
          "metadata": {},
          "execution_count": 6
        }
      ]
    }
  ]
}