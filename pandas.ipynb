{
  "cells": [
    {
      "cell_type": "markdown",
      "metadata": {
        "id": "view-in-github",
        "colab_type": "text"
      },
      "source": [
        "<a href=\"https://colab.research.google.com/github/sbumesh/Prototype/blob/adf_publish/pandas.ipynb\" target=\"_parent\"><img src=\"https://colab.research.google.com/assets/colab-badge.svg\" alt=\"Open In Colab\"/></a>"
      ]
    },
    {
      "cell_type": "markdown",
      "metadata": {
        "id": "mfIMtw6BaiO1"
      },
      "source": [
        "## Pandas DataFrame: Create from lists of values"
      ]
    },
    {
      "cell_type": "code",
      "source": [],
      "metadata": {
        "id": "wT6NU3lmYlgS"
      },
      "execution_count": null,
      "outputs": []
    },
    {
      "cell_type": "code",
      "execution_count": null,
      "metadata": {
        "id": "yHcUkrLpDch2"
      },
      "outputs": [],
      "source": [
        "import pandas as pd\n",
        "import numpy as np\n",
        "\n",
        "data = np.random.rand(5, 9)\n",
        "df = pd.DataFrame(data, columns=[f'Column_{i}' for i in range(1, 10)])\n",
        "df['String_Column'] = ['row1', 'row2', 'row3', 'row4', 'row5']\n",
        "display(df)\n",
        "\n",
        "df_duplicate = df.copy()\n",
        "display(df_duplicate)\n",
        "# swap rows\n",
        "df_duplicate.loc[[0, 3], :] = df_duplicate.loc[[3, 0], :].values\n",
        "\n",
        "# Change the value in row 3, column 'Column_9' to zero\n",
        "df_duplicate.loc[3, 'Column_9'] = 0.0\n",
        "\n",
        "display(df_duplicate)"
      ]
    },
    {
      "cell_type": "code",
      "source": [
        "# df['Concatenated_Column'] = df.astype(str).agg(''.join, axis=1)\n",
        "\n",
        "# # Concatenate all columns in each row into a single column for df_duplicate\n",
        "# df_duplicate['Concatenated_Column'] = df_duplicate.astype(str).agg(''.join, axis=1)\n",
        "\n",
        "# # Display the updated DataFrames\n",
        "# display(df)\n",
        "# display(df_duplicate)"
      ],
      "metadata": {
        "id": "sd38GUGBa79v"
      },
      "execution_count": null,
      "outputs": []
    },
    {
      "cell_type": "code",
      "source": [
        "non_matching_rows = []\n",
        "matching_rows = []\n",
        "for row_df in df.itertuples():\n",
        "  found_match = False\n",
        "  for row_df_duplicate in df_duplicate.itertuples():\n",
        "    # Exclude the index (first element) and 'Concatenated_Column' if it exists\n",
        "    row_df_values = row_df[1:]\n",
        "    row_df_duplicate_values = row_df_duplicate[1:]\n",
        "\n",
        "    # Compare the values, handling potential float comparisons\n",
        "    # Convert to strings for simple comparison, as the concatenated column is string based\n",
        "    are_rows_matching = all(str(v1) == str(v2) for v1, v2 in zip(row_df_values, row_df_duplicate_values))\n",
        "\n",
        "    if are_rows_matching:\n",
        "      found_match = True\n",
        "      matching_rows.append(df.loc[row_df.Index])\n",
        "      break\n",
        "\n",
        "  if not found_match:\n",
        "    non_matching_rows.append(df.loc[row_df.Index])\n",
        "\n",
        "non_matching_df = pd.DataFrame(non_matching_rows)\n",
        "print(\"DataFrame containing non-matching rows from df:\")\n",
        "display(non_matching_df)\n",
        "\n",
        "print(\"\\nOriginal df DataFrame with non-matching rows highlighted in red:\")\n",
        "display(df.style.apply(lambda x: ['background: red' if x.name in non_matching_df.index else '' for i in x], axis=1))\n",
        "\n",
        "print(\"\\nModified df_duplicate DataFrame:\")\n",
        "display(df_duplicate)"
      ],
      "metadata": {
        "id": "jIPCgjyjcsBx"
      },
      "execution_count": null,
      "outputs": []
    },
    {
      "cell_type": "markdown",
      "metadata": {
        "id": "da6CMhXZas7m"
      },
      "source": [
        "## Pandas DataFrame: Rename multiple Columns"
      ]
    },
    {
      "cell_type": "code",
      "metadata": {
        "id": "2e5aa3b0"
      },
      "source": [
        "non_matching_rows_duplicate = []\n",
        "matching_rows_duplicate = []\n",
        "for row_df_duplicate in df_duplicate.itertuples():\n",
        "  found_match = False\n",
        "  for row_df in df.itertuples():\n",
        "    # Exclude the index (first element) and 'Concatenated_Column' if it exists\n",
        "    row_df_duplicate_values = row_df_duplicate[1:]\n",
        "    row_df_values = row_df[1:]\n",
        "\n",
        "    # Compare the values, handling potential float comparisons\n",
        "    # Convert to strings for simple comparison, as the concatenated column is string based\n",
        "    are_rows_matching = all(str(v1) == str(v2) for v1, v2 in zip(row_df_duplicate_values, row_df_values))\n",
        "\n",
        "    if are_rows_matching:\n",
        "      found_match = True\n",
        "      matching_rows_duplicate.append(df_duplicate.loc[row_df_duplicate.Index])\n",
        "      break\n",
        "\n",
        "  if not found_match:\n",
        "    non_matching_rows_duplicate.append(df_duplicate.loc[row_df_duplicate.Index])\n",
        "\n",
        "non_matching_df_duplicate = pd.DataFrame(non_matching_rows_duplicate)\n",
        "matching_df_duplicate = pd.DataFrame(matching_rows_duplicate)\n",
        "\n",
        "def highlight_rows_duplicate(row):\n",
        "    if row.name in non_matching_df_duplicate.index:\n",
        "        return ['background-color: red'] * len(row)\n",
        "    elif row.name in matching_df_duplicate.index:\n",
        "        return ['background-color: green'] * len(row)\n",
        "    else:\n",
        "        return [''] * len(row)\n",
        "\n",
        "print(\"DataFrame containing non-matching rows from df_duplicate:\")\n",
        "display(non_matching_df_duplicate)\n",
        "\n",
        "print(\"\\nModified df_duplicate DataFrame with non-matching rows highlighted (red for non-matching, green for matching):\")\n",
        "display(df_duplicate.style.apply(highlight_rows_duplicate, axis=1))\n",
        "\n",
        "print(\"\\nDataFrame containing matching rows from df_duplicate:\")\n",
        "display(matching_df_duplicate)\n",
        "\n",
        "print(\"\\nOriginal df DataFrame:\")\n",
        "display(df)"
      ],
      "execution_count": null,
      "outputs": []
    },
    {
      "cell_type": "code",
      "source": [
        "pd.DataFrame(matching_rows)"
      ],
      "metadata": {
        "id": "aWSj6Ib2f4Lc"
      },
      "execution_count": null,
      "outputs": []
    }
  ],
  "metadata": {
    "colab": {
      "private_outputs": true,
      "toc_visible": true,
      "provenance": [],
      "include_colab_link": true
    },
    "kernelspec": {
      "display_name": "Python 3",
      "name": "python3"
    },
    "language_info": {
      "name": "python"
    }
  },
  "nbformat": 4,
  "nbformat_minor": 0
}