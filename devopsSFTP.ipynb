{
  "nbformat": 4,
  "nbformat_minor": 0,
  "metadata": {
    "colab": {
      "name": "devopsSFTP.ipynb",
      "provenance": [],
      "collapsed_sections": [],
      "authorship_tag": "ABX9TyMj6QrtWAHacM+a301T7b5x",
      "include_colab_link": true
    },
    "kernelspec": {
      "name": "python3",
      "display_name": "Python 3"
    },
    "language_info": {
      "name": "python"
    }
  },
  "cells": [
    {
      "cell_type": "markdown",
      "metadata": {
        "id": "view-in-github",
        "colab_type": "text"
      },
      "source": [
        "<a href=\"https://colab.research.google.com/github/sbumesh/Prototype/blob/main/devopsSFTP.ipynb\" target=\"_parent\"><img src=\"https://colab.research.google.com/assets/colab-badge.svg\" alt=\"Open In Colab\"/></a>"
      ]
    },
    {
      "cell_type": "markdown",
      "source": [
        "https://buildmedia.readthedocs.org/media/pdf/pytest/latest/pytest.pdf\n"
      ],
      "metadata": {
        "id": "8iO3bV3VzgaP"
      }
    },
    {
      "cell_type": "code",
      "source": [
        "%%writefile /content/sample_data/ftpPoc.py\n",
        "\n",
        "from ftplib import FTP\n",
        "import pytest\n",
        "def getFTPCon(folder='/pub/example'):\n",
        "    ftp = FTP('test.rebex.net', 'demo', 'password')\n",
        "    ftp.cwd(folder)\n",
        "    return ftp\n",
        "\n",
        "\n",
        "def getWelcomeMessage(ftp) :\n",
        "    return ftp.getwelcome()\n",
        "\n",
        "\n",
        "def getFileFromFTP(ftp, fileToGet='winceclient.png') :\n",
        "    \n",
        "    with open('/tmp/{0}'.format(fileToGet), 'wb') as f:\n",
        "        ftp.retrbinary('RETR ' + fileToGet, f.write)\n",
        "    return f\n",
        "\n",
        "# def putFileToFTP(ftp, fileToput='/content/sample_data/mnist_test.csv') :\n",
        "#   file = open(fileToput,'rb')                  # file to send\n",
        "#   ftp.storbinary('STOR kitten.jpg', file)     # send the file\n",
        "#                                       # close file and FTP\n",
        "  \n",
        "\n",
        "def getFtpDir(ftp,folder='/' ) :\n",
        "    listdir=[]     \n",
        "    # ftp = getFTPCon()    \n",
        "    ftp.cwd(folder) \n",
        "    ftp.retrlines(\"NLST\" ,listdir.append ) \n",
        "    return listdir\n",
        "\n",
        "\n",
        "def downloadFTPFolder(ftp ) :\n",
        "    mylist = getFtpDir(ftp )\n",
        "    for aItem in mylist :\n",
        "            getFileFromFTP(ftp,fileToGet=aItem) \n",
        "            writeToFolder(filename = aItem ,tmpFile = '/content/sample_data/{0}'.format(aItem))\n",
        "\n",
        "\n",
        "\n",
        "\n",
        "##########################################\n",
        "### pytest main  \n",
        "######################################\n",
        "import pytest\n",
        "@pytest.fixture\n",
        "def ftp() :\n",
        "    f =  getFTPCon(folder='/') \n",
        "    return f\n",
        "\n",
        "def test_getFTPCon(folder='/'  ):\n",
        "    assert  type(getFTPCon(folder='/')  ) is FTP \n",
        "    assert   getWelcomeMessage(ftp) == '220 Microsoft FTP Service'\n",
        "def test_getWelcomeMessage(ftp)  :        \n",
        "     \n",
        "    assert   getWelcomeMessage(ftp) == '220 Microsoft FTP Service'\n",
        "    assert  type(getWelcomeMessage(ftp)) is   str \n",
        "\n",
        "def  test_getFtpDir(ftp ) :\n",
        "   assert   getFtpDir(ftp,'/' )==['pub','readme.txt'] \n",
        "   assert   getFtpDir(ftp,'pub' )==['example1']  \n",
        "   assert   'pop3-console-client.png' in getFtpDir(ftp,'/pub/example' ) \n",
        "\n",
        "def  test_getFtpDirOfpub(ftp ) :\n",
        "   assert   getFtpDir(ftp,'pub' )==['example1'] \n",
        "   \n",
        "def  test_getFtpDirofexample(ftp ) :   \n",
        "   assert   'pop3-console-client.png' in getFtpDir(ftp,'/pub/example' ) \n",
        "    \n",
        "def  test_getFileFromFTP(ftp,fileToGet='readme.txt') :\n",
        "   assert    getFileFromFTP(ftp,fileToGet='readme.txt') .name  == '/tmp/readme.txt' "
      ],
      "metadata": {
        "colab": {
          "base_uri": "https://localhost:8080/"
        },
        "id": "vgMX-LPpswku",
        "outputId": "da10609c-3173-4c9a-979f-e3a73aa2bf09"
      },
      "execution_count": 27,
      "outputs": [
        {
          "output_type": "stream",
          "name": "stdout",
          "text": [
            "Overwriting /content/sample_data/ftpPoc.py\n"
          ]
        }
      ]
    },
    {
      "cell_type": "code",
      "source": [
        "type(getFTPCon(folder='/pub/example')  ) is FTP1"
      ],
      "metadata": {
        "colab": {
          "base_uri": "https://localhost:8080/",
          "height": 171
        },
        "id": "muQ_Nhbm1kWs",
        "outputId": "0a083b2b-46c6-44a7-df24-465e431a0609"
      },
      "execution_count": 15,
      "outputs": [
        {
          "output_type": "error",
          "ename": "NameError",
          "evalue": "ignored",
          "traceback": [
            "\u001b[0;31m---------------------------------------------------------------------------\u001b[0m",
            "\u001b[0;31mNameError\u001b[0m                                 Traceback (most recent call last)",
            "\u001b[0;32m<ipython-input-15-0a10b1e3c05f>\u001b[0m in \u001b[0;36m<module>\u001b[0;34m\u001b[0m\n\u001b[0;32m----> 1\u001b[0;31m \u001b[0mtype\u001b[0m\u001b[0;34m(\u001b[0m\u001b[0mgetFTPCon\u001b[0m\u001b[0;34m(\u001b[0m\u001b[0mfolder\u001b[0m\u001b[0;34m=\u001b[0m\u001b[0;34m'/pub/example'\u001b[0m\u001b[0;34m)\u001b[0m  \u001b[0;34m)\u001b[0m \u001b[0;32mis\u001b[0m \u001b[0mFTP1\u001b[0m\u001b[0;34m\u001b[0m\u001b[0;34m\u001b[0m\u001b[0m\n\u001b[0m",
            "\u001b[0;31mNameError\u001b[0m: name 'FTP1' is not defined"
          ]
        }
      ]
    },
    {
      "cell_type": "markdown",
      "source": [
        "![image.png](data:image/png;base64,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)"
      ],
      "metadata": {
        "id": "uStEmrB2vbwv"
      }
    },
    {
      "cell_type": "code",
      "source": [
        "!pytest -v /content/sample_data/ftpPoc.py\n"
      ],
      "metadata": {
        "colab": {
          "base_uri": "https://localhost:8080/"
        },
        "id": "5direbt2tKhu",
        "outputId": "9141e78c-2033-401c-9673-0de71979013d"
      },
      "execution_count": 31,
      "outputs": [
        {
          "output_type": "stream",
          "name": "stdout",
          "text": [
            "\u001b[1m============================= test session starts ==============================\u001b[0m\n",
            "platform linux -- Python 3.7.13, pytest-3.6.4, py-1.11.0, pluggy-0.7.1 -- /usr/bin/python3\n",
            "cachedir: .pytest_cache\n",
            "rootdir: /content, inifile:\n",
            "plugins: typeguard-2.7.1\n",
            "\u001b[1m\rcollecting 0 items                                                             \u001b[0m\u001b[1m\rcollecting 6 items                                                             \u001b[0m\u001b[1m\rcollected 6 items                                                              \u001b[0m\n",
            "\n",
            "sample_data/ftpPoc.py::test_getFTPCon \u001b[31mFAILED\u001b[0m\u001b[36m                             [ 16%]\u001b[0m\n",
            "sample_data/ftpPoc.py::test_getWelcomeMessage \u001b[32mPASSED\u001b[0m\u001b[36m                     [ 33%]\u001b[0m\n",
            "sample_data/ftpPoc.py::test_getFtpDir \u001b[31mFAILED\u001b[0m\u001b[36m                             [ 50%]\u001b[0m\n",
            "sample_data/ftpPoc.py::test_getFtpDirOfpub \u001b[31mFAILED\u001b[0m\u001b[36m                        [ 66%]\u001b[0m\n",
            "sample_data/ftpPoc.py::test_getFtpDirofexample \u001b[32mPASSED\u001b[0m\u001b[36m                    [ 83%]\u001b[0m\n",
            "sample_data/ftpPoc.py::test_getFileFromFTP \u001b[32mPASSED\u001b[0m\u001b[36m                        [100%]\u001b[0m\n",
            "\n",
            "=================================== FAILURES ===================================\n",
            "\u001b[31m\u001b[1m________________________________ test_getFTPCon ________________________________\u001b[0m\n",
            "\n",
            "folder = '/'\n",
            "\n",
            "\u001b[1m    def test_getFTPCon(folder='/'  ):\u001b[0m\n",
            "\u001b[1m        assert  type(getFTPCon(folder='/')  ) is FTP\u001b[0m\n",
            "\u001b[1m>       assert   getWelcomeMessage(ftp) == '220 Microsoft FTP Service'\u001b[0m\n",
            "\n",
            "\u001b[1m\u001b[31msample_data/ftpPoc.py\u001b[0m:54: \n",
            "_ _ _ _ _ _ _ _ _ _ _ _ _ _ _ _ _ _ _ _ _ _ _ _ _ _ _ _ _ _ _ _ _ _ _ _ _ _ _ _ \n",
            "\n",
            "ftp = <function ftp at 0x7f4f1bd42dd0>\n",
            "\n",
            "\u001b[1m    def getWelcomeMessage(ftp) :\u001b[0m\n",
            "\u001b[1m>       return ftp.getwelcome()\u001b[0m\n",
            "\u001b[1m\u001b[31mE       AttributeError: 'function' object has no attribute 'getwelcome'\u001b[0m\n",
            "\n",
            "\u001b[1m\u001b[31msample_data/ftpPoc.py\u001b[0m:11: AttributeError\n",
            "\u001b[31m\u001b[1m________________________________ test_getFtpDir ________________________________\u001b[0m\n",
            "\n",
            "ftp = <ftplib.FTP object at 0x7f4f1b775410>\n",
            "\n",
            "\u001b[1m    def  test_getFtpDir(ftp ) :\u001b[0m\n",
            "\u001b[1m       assert   getFtpDir(ftp,'/' )==['pub','readme.txt']\u001b[0m\n",
            "\u001b[1m>      assert   getFtpDir(ftp,'pub' )==['example1']\u001b[0m\n",
            "\u001b[1m\u001b[31mE      AssertionError: assert ['example'] == ['example1']\u001b[0m\n",
            "\u001b[1m\u001b[31mE        At index 0 diff: 'example' != 'example1'\u001b[0m\n",
            "\u001b[1m\u001b[31mE        Full diff:\u001b[0m\n",
            "\u001b[1m\u001b[31mE        - ['example']\u001b[0m\n",
            "\u001b[1m\u001b[31mE        + ['example1']\u001b[0m\n",
            "\u001b[1m\u001b[31mE        ?          +\u001b[0m\n",
            "\n",
            "\u001b[1m\u001b[31msample_data/ftpPoc.py\u001b[0m:62: AssertionError\n",
            "\u001b[31m\u001b[1m_____________________________ test_getFtpDirOfpub ______________________________\u001b[0m\n",
            "\n",
            "ftp = <ftplib.FTP object at 0x7f4f1b7844d0>\n",
            "\n",
            "\u001b[1m    def  test_getFtpDirOfpub(ftp ) :\u001b[0m\n",
            "\u001b[1m>      assert   getFtpDir(ftp,'pub' )==['example1']\u001b[0m\n",
            "\u001b[1m\u001b[31mE      AssertionError: assert ['example'] == ['example1']\u001b[0m\n",
            "\u001b[1m\u001b[31mE        At index 0 diff: 'example' != 'example1'\u001b[0m\n",
            "\u001b[1m\u001b[31mE        Full diff:\u001b[0m\n",
            "\u001b[1m\u001b[31mE        - ['example']\u001b[0m\n",
            "\u001b[1m\u001b[31mE        + ['example1']\u001b[0m\n",
            "\u001b[1m\u001b[31mE        ?          +\u001b[0m\n",
            "\n",
            "\u001b[1m\u001b[31msample_data/ftpPoc.py\u001b[0m:66: AssertionError\n",
            "\u001b[31m\u001b[1m====================== 3 failed, 3 passed in 5.92 seconds ======================\u001b[0m\n"
          ]
        }
      ]
    },
    {
      "cell_type": "code",
      "source": [
        "%%writefile /content/sample_data/ftpPoc.py\n",
        "\n",
        "from ftplib import FTP\n",
        "import pytest\n",
        "def getFTPCon(folder='/pub/example'):\n",
        "    ftp = FTP('test.rebex.net', 'demo', 'password')\n",
        "    ftp.cwd(folder)\n",
        "    return ftp\n",
        "\n",
        "\n",
        "def getWelcomeMessage(ftp) :\n",
        "    return ftp.getwelcome()\n",
        "\n",
        "\n",
        "def getFileFromFTP(ftp, fileToGet='winceclient.png') :\n",
        "    \n",
        "    with open('/tmp/{0}'.format(fileToGet), 'wb') as f:\n",
        "        ftp.retrbinary('RETR ' + fileToGet, f.write)\n",
        "    return f\n",
        "\n",
        "def putFileToFTP(ftp, fileToput='/content/sample_data/mnist_test.csv') :\n",
        "  file = open(fileToput,'rb')                  # file to send\n",
        "  ftp.storbinary('STOR kitten.jpg', file)     # send the file\n",
        "                                      # close file and FTP\n",
        "  \n",
        "\n",
        "def getFtpDir(ftp,folder='/' ) :\n",
        "    listdir=[]     \n",
        "    # ftp = getFTPCon()    \n",
        "    ftp.cwd(folder) \n",
        "    ftp.retrlines(\"NLST\" ,listdir.append ) \n",
        "    return listdir\n",
        "def downloadFTPFolder(ftp ) :\n",
        "    mylist = getFtpDir(ftp )\n",
        "    for aItem in mylist :\n",
        "            getFileFromFTP(ftp,fileToGet=aItem) \n",
        "            writeToFolder(filename = aItem ,tmpFile = '/content/sample_data/{0}'.format(aItem))\n",
        "'''\n",
        "def test_main( ):\n",
        "    ftp = getFTPCon() \n",
        "    ftp.cwd('/pub')\n",
        "    assert getWelcomeMessage(ftp) == '2201 Microsoft FTP Service'\n",
        "    assert getFtpDir(ftp ) == ['example12']  \n",
        "'''  \n",
        "@pytest.fixture\n",
        "def ftp() :\n",
        "    f = getFTPCon(folder='/') \n",
        "    return f\n",
        "\n",
        "#ftp = getFTPCon(folder='/pub')\n"
      ],
      "metadata": {
        "colab": {
          "base_uri": "https://localhost:8080/"
        },
        "id": "Z7ydXk5k7lNO",
        "outputId": "c9959192-b545-417b-da01-796751651a29"
      },
      "execution_count": null,
      "outputs": [
        {
          "output_type": "stream",
          "name": "stdout",
          "text": [
            "Overwriting /content/sample_data/ftpPoc.py\n"
          ]
        }
      ]
    },
    {
      "cell_type": "code",
      "source": [
        "%%writefile /content/sample_data/ftptest.py\n",
        "from    ftpPoc import *\n",
        "import pytest\n",
        "@pytest.fixture\n",
        "def ftp() :\n",
        "    f =  getFTPCon(folder='/') \n",
        "    return f\n",
        "def test_getWelcomeMessage(ftp)  :        \n",
        "     \n",
        "    assert   getWelcomeMessage(ftp) == '220 Microsoft FTP Service'\n",
        "    assert  type(getWelcomeMessage(ftp)) is   str \n",
        "\n",
        "def  test_getFtpDir(ftp ) :\n",
        "   assert   getFtpDir(ftp,'/' )==['pub','readme.txt'] \n",
        "   assert   getFtpDir(ftp,'pub' )==['example1']  \n",
        "   assert   'pop3-console-client.png' in getFtpDir(ftp,'/pub/example' ) \n",
        "\n",
        "def  test_getFtpDirOfpub(ftp ) :\n",
        "   assert   getFtpDir(ftp,'pub' )==['example1'] \n",
        "   \n",
        "def  test_getFtpDirofexample(ftp ) :   \n",
        "   assert   'pop3-console-client.png' in getFtpDir(ftp,'/pub/example' ) \n",
        "    \n",
        "def  test_getFileFromFTP(ftp,fileToGet='readme.txt') :\n",
        "   assert    getFileFromFTP(ftp,fileToGet='readme.txt') .name  == '/tmp/readme.txt' "
      ],
      "metadata": {
        "colab": {
          "base_uri": "https://localhost:8080/"
        },
        "id": "ZesVU6E3ai_c",
        "outputId": "1dbd23ea-7cf3-4670-d507-d9f16d2422b0"
      },
      "execution_count": null,
      "outputs": [
        {
          "output_type": "stream",
          "name": "stdout",
          "text": [
            "Overwriting /content/sample_data/ftptest.py\n"
          ]
        }
      ]
    },
    {
      "cell_type": "code",
      "source": [
        "!pytest  -v  /content/sample_data/ftptest.py"
      ],
      "metadata": {
        "colab": {
          "base_uri": "https://localhost:8080/"
        },
        "id": "drH8OZX7a4oj",
        "outputId": "2300e2a6-4782-43d3-af46-00447ed6014e"
      },
      "execution_count": null,
      "outputs": [
        {
          "output_type": "stream",
          "name": "stdout",
          "text": [
            "\u001b[1m============================= test session starts ==============================\u001b[0m\n",
            "platform linux -- Python 3.7.13, pytest-3.6.4, py-1.11.0, pluggy-0.7.1 -- /usr/bin/python3\n",
            "cachedir: .pytest_cache\n",
            "rootdir: /content, inifile:\n",
            "plugins: typeguard-2.7.1\n",
            "\u001b[1m\rcollecting 0 items                                                             \u001b[0m\u001b[1m\rcollecting 5 items                                                             \u001b[0m\u001b[1m\rcollected 5 items                                                              \u001b[0m\n",
            "\n",
            "sample_data/ftptest.py::test_getWelcomeMessage \u001b[32mPASSED\u001b[0m\u001b[36m                    [ 20%]\u001b[0m\n",
            "sample_data/ftptest.py::test_getFtpDir \u001b[31mFAILED\u001b[0m\u001b[36m                            [ 40%]\u001b[0m\n",
            "sample_data/ftptest.py::test_getFtpDirOfpub \u001b[31mFAILED\u001b[0m\u001b[36m                       [ 60%]\u001b[0m\n",
            "sample_data/ftptest.py::test_getFtpDirofexample \u001b[32mPASSED\u001b[0m\u001b[36m                   [ 80%]\u001b[0m\n",
            "sample_data/ftptest.py::test_getFileFromFTP \u001b[32mPASSED\u001b[0m\u001b[36m                       [100%]\u001b[0m\n",
            "\n",
            "=================================== FAILURES ===================================\n",
            "\u001b[31m\u001b[1m________________________________ test_getFtpDir ________________________________\u001b[0m\n",
            "\n",
            "ftp = <ftplib.FTP object at 0x7f73432e5a50>\n",
            "\n",
            "\u001b[1m    def  test_getFtpDir(ftp ) :\u001b[0m\n",
            "\u001b[1m       assert   getFtpDir(ftp,'/' )==['pub','readme.txt']\u001b[0m\n",
            "\u001b[1m>      assert   getFtpDir(ftp,'pub' )==['example1']\u001b[0m\n",
            "\u001b[1m\u001b[31mE      AssertionError: assert ['example'] == ['example1']\u001b[0m\n",
            "\u001b[1m\u001b[31mE        At index 0 diff: 'example' != 'example1'\u001b[0m\n",
            "\u001b[1m\u001b[31mE        Full diff:\u001b[0m\n",
            "\u001b[1m\u001b[31mE        - ['example']\u001b[0m\n",
            "\u001b[1m\u001b[31mE        + ['example1']\u001b[0m\n",
            "\u001b[1m\u001b[31mE        ?          +\u001b[0m\n",
            "\n",
            "\u001b[1m\u001b[31msample_data/ftptest.py\u001b[0m:14: AssertionError\n",
            "\u001b[31m\u001b[1m_____________________________ test_getFtpDirOfpub ______________________________\u001b[0m\n",
            "\n",
            "ftp = <ftplib.FTP object at 0x7f7342de9cd0>\n",
            "\n",
            "\u001b[1m    def  test_getFtpDirOfpub(ftp ) :\u001b[0m\n",
            "\u001b[1m>      assert   getFtpDir(ftp,'pub' )==['example1']\u001b[0m\n",
            "\u001b[1m\u001b[31mE      AssertionError: assert ['example'] == ['example1']\u001b[0m\n",
            "\u001b[1m\u001b[31mE        At index 0 diff: 'example' != 'example1'\u001b[0m\n",
            "\u001b[1m\u001b[31mE        Full diff:\u001b[0m\n",
            "\u001b[1m\u001b[31mE        - ['example']\u001b[0m\n",
            "\u001b[1m\u001b[31mE        + ['example1']\u001b[0m\n",
            "\u001b[1m\u001b[31mE        ?          +\u001b[0m\n",
            "\n",
            "\u001b[1m\u001b[31msample_data/ftptest.py\u001b[0m:18: AssertionError\n",
            "\u001b[31m\u001b[1m====================== 2 failed, 3 passed in 5.60 seconds ======================\u001b[0m\n"
          ]
        }
      ]
    },
    {
      "cell_type": "code",
      "source": [
        "!pytest -v     /content/sample_data/ftptest.py"
      ],
      "metadata": {
        "colab": {
          "base_uri": "https://localhost:8080/"
        },
        "id": "Q8J83SQNCMYn",
        "outputId": "57f5e073-4b22-4dc3-c094-72f5a03552a4"
      },
      "execution_count": null,
      "outputs": [
        {
          "output_type": "stream",
          "name": "stdout",
          "text": [
            "\u001b[1m============================= test session starts ==============================\u001b[0m\n",
            "platform linux -- Python 3.7.13, pytest-3.6.4, py-1.11.0, pluggy-0.7.1 -- /usr/bin/python3\n",
            "cachedir: .pytest_cache\n",
            "rootdir: /content, inifile:\n",
            "plugins: typeguard-2.7.1\n",
            "\u001b[1m\rcollecting 0 items                                                             \u001b[0m\u001b[1m\rcollecting 5 items                                                             \u001b[0m\u001b[1m\rcollected 5 items                                                              \u001b[0m\n",
            "\n",
            "sample_data/ftptest.py::test_getWelcomeMessage \u001b[31mERROR\u001b[0m\u001b[36m                     [ 20%]\u001b[0m\n",
            "sample_data/ftptest.py::test_getFtpDir \u001b[31mERROR\u001b[0m\u001b[36m                             [ 40%]\u001b[0m\n",
            "sample_data/ftptest.py::test_getFtpDirOfpub \u001b[31mERROR\u001b[0m\u001b[36m                        [ 60%]\u001b[0m\n",
            "sample_data/ftptest.py::test_getFtpDirofexample \u001b[31mERROR\u001b[0m\u001b[36m                    [ 80%]\u001b[0m\n",
            "sample_data/ftptest.py::test_getFileFromFTP \u001b[31mERROR\u001b[0m\u001b[36m                        [100%]\u001b[0m\n",
            "\n",
            "==================================== ERRORS ====================================\n",
            "___________________ ERROR at setup of test_getWelcomeMessage ___________________\n",
            "\n",
            "\u001b[1m    @pytest.fixture\u001b[0m\n",
            "\u001b[1m    def ftp() :\u001b[0m\n",
            "\u001b[1m>       f = ftpPoc.getFTPCon(folder='/')\u001b[0m\n",
            "\u001b[1m\u001b[31mE       NameError: name 'ftpPoc' is not defined\u001b[0m\n",
            "\n",
            "\u001b[1m\u001b[31msample_data/ftptest.py\u001b[0m:5: NameError\n",
            "_______________________ ERROR at setup of test_getFtpDir _______________________\n",
            "\n",
            "\u001b[1m    @pytest.fixture\u001b[0m\n",
            "\u001b[1m    def ftp() :\u001b[0m\n",
            "\u001b[1m>       f = ftpPoc.getFTPCon(folder='/')\u001b[0m\n",
            "\u001b[1m\u001b[31mE       NameError: name 'ftpPoc' is not defined\u001b[0m\n",
            "\n",
            "\u001b[1m\u001b[31msample_data/ftptest.py\u001b[0m:5: NameError\n",
            "____________________ ERROR at setup of test_getFtpDirOfpub _____________________\n",
            "\n",
            "\u001b[1m    @pytest.fixture\u001b[0m\n",
            "\u001b[1m    def ftp() :\u001b[0m\n",
            "\u001b[1m>       f = ftpPoc.getFTPCon(folder='/')\u001b[0m\n",
            "\u001b[1m\u001b[31mE       NameError: name 'ftpPoc' is not defined\u001b[0m\n",
            "\n",
            "\u001b[1m\u001b[31msample_data/ftptest.py\u001b[0m:5: NameError\n",
            "__________________ ERROR at setup of test_getFtpDirofexample ___________________\n",
            "\n",
            "\u001b[1m    @pytest.fixture\u001b[0m\n",
            "\u001b[1m    def ftp() :\u001b[0m\n",
            "\u001b[1m>       f = ftpPoc.getFTPCon(folder='/')\u001b[0m\n",
            "\u001b[1m\u001b[31mE       NameError: name 'ftpPoc' is not defined\u001b[0m\n",
            "\n",
            "\u001b[1m\u001b[31msample_data/ftptest.py\u001b[0m:5: NameError\n",
            "____________________ ERROR at setup of test_getFileFromFTP _____________________\n",
            "\n",
            "\u001b[1m    @pytest.fixture\u001b[0m\n",
            "\u001b[1m    def ftp() :\u001b[0m\n",
            "\u001b[1m>       f = ftpPoc.getFTPCon(folder='/')\u001b[0m\n",
            "\u001b[1m\u001b[31mE       NameError: name 'ftpPoc' is not defined\u001b[0m\n",
            "\n",
            "\u001b[1m\u001b[31msample_data/ftptest.py\u001b[0m:5: NameError\n",
            "\u001b[31m\u001b[1m=========================== 5 error in 0.07 seconds ============================\u001b[0m\n"
          ]
        }
      ]
    },
    {
      "cell_type": "code",
      "source": [
        "ftp = getFTPCon(folder='/') \n",
        "f=  getFileFromFTP(ftp,fileToGet='readme.txt')\n",
        "# mylist = getFtpDir(ftp )\n",
        "# f= getFileFromFTP(ftp,fileToGet='readme.txt')\n",
        "print( f.name  == '/tmp/readme.txt' )\n",
        "# for aItem in mylist :\n",
        "#     print( type(aItem) )\n",
        "#     if '.txt' in aItem :\n",
        "#       f= getFileFromFTP(ftp,fileToGet=aItem) "
      ],
      "metadata": {
        "colab": {
          "base_uri": "https://localhost:8080/"
        },
        "id": "WJ2Sz3PiY7cg",
        "outputId": "838b5ee1-5f33-43ca-a18b-2b0c0b29aa1c"
      },
      "execution_count": null,
      "outputs": [
        {
          "output_type": "stream",
          "name": "stdout",
          "text": [
            "True\n"
          ]
        }
      ]
    }
  ]
}